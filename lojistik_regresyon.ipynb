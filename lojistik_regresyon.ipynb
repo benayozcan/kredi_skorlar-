{
 "cells": [
  {
   "cell_type": "code",
   "execution_count": 1,
   "id": "2374c69b-6be4-49c5-804e-27f0a4bc2dc4",
   "metadata": {},
   "outputs": [],
   "source": [
    "import numpy as np\n",
    "import pandas as pd\n",
    "from sklearn.linear_model import LogisticRegression\n",
    "from sklearn.metrics import accuracy_score\n",
    "from sklearn.model_selection import train_test_split\n",
    "import matplotlib.pyplot as plt"
   ]
  },
  {
   "cell_type": "code",
   "execution_count": 2,
   "id": "09135586-84b4-490b-ba68-735344a923c6",
   "metadata": {},
   "outputs": [],
   "source": [
    "df = pd.read_csv(\"loan_train.csv\")"
   ]
  },
  {
   "cell_type": "code",
   "execution_count": 3,
   "id": "ed80b581-be3f-4377-bea7-c0fe25aa0610",
   "metadata": {},
   "outputs": [
    {
     "data": {
      "text/html": [
       "<div>\n",
       "<style scoped>\n",
       "    .dataframe tbody tr th:only-of-type {\n",
       "        vertical-align: middle;\n",
       "    }\n",
       "\n",
       "    .dataframe tbody tr th {\n",
       "        vertical-align: top;\n",
       "    }\n",
       "\n",
       "    .dataframe thead th {\n",
       "        text-align: right;\n",
       "    }\n",
       "</style>\n",
       "<table border=\"1\" class=\"dataframe\">\n",
       "  <thead>\n",
       "    <tr style=\"text-align: right;\">\n",
       "      <th></th>\n",
       "      <th>Gender</th>\n",
       "      <th>Married</th>\n",
       "      <th>Dependents</th>\n",
       "      <th>Education</th>\n",
       "      <th>Self_Employed</th>\n",
       "      <th>Applicant_Income</th>\n",
       "      <th>Coapplicant_Income</th>\n",
       "      <th>Loan_Amount</th>\n",
       "      <th>Term</th>\n",
       "      <th>Credit_History</th>\n",
       "      <th>Area</th>\n",
       "      <th>Status</th>\n",
       "    </tr>\n",
       "  </thead>\n",
       "  <tbody>\n",
       "    <tr>\n",
       "      <th>0</th>\n",
       "      <td>Male</td>\n",
       "      <td>No</td>\n",
       "      <td>0</td>\n",
       "      <td>Graduate</td>\n",
       "      <td>No</td>\n",
       "      <td>584900</td>\n",
       "      <td>0.0</td>\n",
       "      <td>15000000</td>\n",
       "      <td>360.0</td>\n",
       "      <td>1.0</td>\n",
       "      <td>Urban</td>\n",
       "      <td>Y</td>\n",
       "    </tr>\n",
       "    <tr>\n",
       "      <th>1</th>\n",
       "      <td>Male</td>\n",
       "      <td>Yes</td>\n",
       "      <td>1</td>\n",
       "      <td>Graduate</td>\n",
       "      <td>No</td>\n",
       "      <td>458300</td>\n",
       "      <td>150800.0</td>\n",
       "      <td>12800000</td>\n",
       "      <td>360.0</td>\n",
       "      <td>1.0</td>\n",
       "      <td>Rural</td>\n",
       "      <td>N</td>\n",
       "    </tr>\n",
       "    <tr>\n",
       "      <th>2</th>\n",
       "      <td>Male</td>\n",
       "      <td>Yes</td>\n",
       "      <td>0</td>\n",
       "      <td>Graduate</td>\n",
       "      <td>Yes</td>\n",
       "      <td>300000</td>\n",
       "      <td>0.0</td>\n",
       "      <td>6600000</td>\n",
       "      <td>360.0</td>\n",
       "      <td>1.0</td>\n",
       "      <td>Urban</td>\n",
       "      <td>Y</td>\n",
       "    </tr>\n",
       "    <tr>\n",
       "      <th>3</th>\n",
       "      <td>Male</td>\n",
       "      <td>Yes</td>\n",
       "      <td>0</td>\n",
       "      <td>Not Graduate</td>\n",
       "      <td>No</td>\n",
       "      <td>258300</td>\n",
       "      <td>235800.0</td>\n",
       "      <td>12000000</td>\n",
       "      <td>360.0</td>\n",
       "      <td>1.0</td>\n",
       "      <td>Urban</td>\n",
       "      <td>Y</td>\n",
       "    </tr>\n",
       "    <tr>\n",
       "      <th>4</th>\n",
       "      <td>Male</td>\n",
       "      <td>No</td>\n",
       "      <td>0</td>\n",
       "      <td>Graduate</td>\n",
       "      <td>No</td>\n",
       "      <td>600000</td>\n",
       "      <td>0.0</td>\n",
       "      <td>14100000</td>\n",
       "      <td>360.0</td>\n",
       "      <td>1.0</td>\n",
       "      <td>Urban</td>\n",
       "      <td>Y</td>\n",
       "    </tr>\n",
       "  </tbody>\n",
       "</table>\n",
       "</div>"
      ],
      "text/plain": [
       "  Gender Married Dependents     Education Self_Employed  Applicant_Income  \\\n",
       "0   Male      No          0      Graduate            No            584900   \n",
       "1   Male     Yes          1      Graduate            No            458300   \n",
       "2   Male     Yes          0      Graduate           Yes            300000   \n",
       "3   Male     Yes          0  Not Graduate            No            258300   \n",
       "4   Male      No          0      Graduate            No            600000   \n",
       "\n",
       "   Coapplicant_Income  Loan_Amount   Term  Credit_History   Area Status  \n",
       "0                 0.0     15000000  360.0             1.0  Urban      Y  \n",
       "1            150800.0     12800000  360.0             1.0  Rural      N  \n",
       "2                 0.0      6600000  360.0             1.0  Urban      Y  \n",
       "3            235800.0     12000000  360.0             1.0  Urban      Y  \n",
       "4                 0.0     14100000  360.0             1.0  Urban      Y  "
      ]
     },
     "execution_count": 3,
     "metadata": {},
     "output_type": "execute_result"
    }
   ],
   "source": [
    "df.head()"
   ]
  },
  {
   "cell_type": "code",
   "execution_count": 4,
   "id": "b543c8ea-ebe1-49d4-83cf-8c79a1fa6124",
   "metadata": {},
   "outputs": [
    {
     "data": {
      "text/plain": [
       "Gender                13\n",
       "Married                3\n",
       "Dependents            15\n",
       "Education              0\n",
       "Self_Employed         32\n",
       "Applicant_Income       0\n",
       "Coapplicant_Income     0\n",
       "Loan_Amount            0\n",
       "Term                  14\n",
       "Credit_History        50\n",
       "Area                   0\n",
       "Status                 0\n",
       "dtype: int64"
      ]
     },
     "execution_count": 4,
     "metadata": {},
     "output_type": "execute_result"
    }
   ],
   "source": [
    "df.isnull().sum()"
   ]
  },
  {
   "cell_type": "code",
   "execution_count": 5,
   "id": "fb00ba4c-f443-4c8e-b822-7bb6d350f644",
   "metadata": {},
   "outputs": [],
   "source": [
    "df[\"Gender\"] = df[\"Gender\"].fillna(df[\"Gender\"].mode()[0])\n",
    "df[\"Married\"] = df[\"Married\"].fillna(df[\"Married\"].mode()[0])\n",
    "df[\"Dependents\"] = df[\"Dependents\"].fillna(df[\"Dependents\"].mode()[0])\n",
    "df[\"Self_Employed\"] = df[\"Self_Employed\"].fillna(df[\"Self_Employed\"].mode()[0])\n",
    "df[\"Term\"] = df[\"Term\"].fillna(df[\"Term\"].mode()[0])\n",
    "df[\"Credit_History\"] = df[\"Credit_History\"].fillna(df[\"Credit_History\"].mode()[0])"
   ]
  },
  {
   "cell_type": "code",
   "execution_count": 6,
   "id": "6c7edab2-9ed4-411d-ba74-a112f2e4ce2b",
   "metadata": {},
   "outputs": [
    {
     "data": {
      "text/plain": [
       "Gender                0\n",
       "Married               0\n",
       "Dependents            0\n",
       "Education             0\n",
       "Self_Employed         0\n",
       "Applicant_Income      0\n",
       "Coapplicant_Income    0\n",
       "Loan_Amount           0\n",
       "Term                  0\n",
       "Credit_History        0\n",
       "Area                  0\n",
       "Status                0\n",
       "dtype: int64"
      ]
     },
     "execution_count": 6,
     "metadata": {},
     "output_type": "execute_result"
    }
   ],
   "source": [
    "df.isnull().sum()"
   ]
  },
  {
   "cell_type": "code",
   "execution_count": 7,
   "id": "738fcaea-6569-49ff-92f6-5e802ae5b56d",
   "metadata": {},
   "outputs": [],
   "source": [
    "def encode(x):\n",
    "    if x == \"Y\":\n",
    "        return 1\n",
    "    else:\n",
    "        return 0"
   ]
  },
  {
   "cell_type": "code",
   "execution_count": 8,
   "id": "c2caf9fe-8a77-4c2a-961c-f597efa16b0d",
   "metadata": {},
   "outputs": [],
   "source": [
    "df[\"Status\"] = df.apply(lambda x: encode(x[\"Status\"]), axis=1)"
   ]
  },
  {
   "cell_type": "code",
   "execution_count": 9,
   "id": "c7ec87cc-36ec-451d-b582-e2369a3f4487",
   "metadata": {},
   "outputs": [],
   "source": [
    "def encode2(x):\n",
    "    if x == \"Male\":\n",
    "        return 1\n",
    "    else:\n",
    "        return 0"
   ]
  },
  {
   "cell_type": "code",
   "execution_count": 10,
   "id": "2ffba7f1-0532-4858-a199-4ca191b5987b",
   "metadata": {},
   "outputs": [],
   "source": [
    "df[\"Gender\"] = df.apply(lambda x: encode2(x[\"Gender\"]),axis=1)"
   ]
  },
  {
   "cell_type": "code",
   "execution_count": 11,
   "id": "ecfe34e2-ef23-497f-9975-d4a8fafc98ea",
   "metadata": {},
   "outputs": [],
   "source": [
    "def encode3(x):\n",
    "    if x == \"Yes\":\n",
    "        return 1\n",
    "    else:\n",
    "        return 0\n",
    "\n",
    "df[\"Married\"] = df.apply(lambda x: encode3(x[\"Married\"]), axis=1)"
   ]
  },
  {
   "cell_type": "code",
   "execution_count": 12,
   "id": "ffb61300-4b6d-42be-931d-01e01d7ab058",
   "metadata": {},
   "outputs": [],
   "source": [
    "def encode4(x):\n",
    "    if x == \"Graduate\":\n",
    "        return 1\n",
    "    else:\n",
    "        return 0\n",
    "\n",
    "df[\"Education\"] = df.apply(lambda x: encode4(x[\"Education\"]), axis=1)"
   ]
  },
  {
   "cell_type": "code",
   "execution_count": 13,
   "id": "37f70b8b-3f32-457d-819a-71be21520215",
   "metadata": {},
   "outputs": [],
   "source": [
    "def encode5(x):\n",
    "    if x == \"Yes\":\n",
    "        return 1\n",
    "    else:\n",
    "        return 0\n",
    "\n",
    "df[\"Self_Employed\"] = df.apply(lambda x: encode5(x[\"Self_Employed\"]), axis=1)"
   ]
  },
  {
   "cell_type": "code",
   "execution_count": 14,
   "id": "a1d9f1c7-26fd-4963-acaa-bf1fb4a44bee",
   "metadata": {},
   "outputs": [],
   "source": [
    "def encode6(x):\n",
    "    if x == \"Urban\":\n",
    "        return 2\n",
    "    elif x == \"Semiurban\":\n",
    "        return 1\n",
    "    else:\n",
    "        return 0\n",
    "\n",
    "df[\"Area\"] = df.apply(lambda x: encode6(x[\"Area\"]), axis=1)"
   ]
  },
  {
   "cell_type": "code",
   "execution_count": 15,
   "id": "3e8262ea-f88f-42b6-9a0c-9c1d698ec0f3",
   "metadata": {},
   "outputs": [],
   "source": [
    "def encode7(x):\n",
    "    if x == \"3+\":\n",
    "        return 3\n",
    "    elif x == \"2\":\n",
    "        return 2\n",
    "    elif x == \"1\":\n",
    "        return 1\n",
    "    else:\n",
    "        return 0\n",
    "\n",
    "df[\"Dependents\"] = df.apply(lambda x: encode7(x[\"Dependents\"]), axis=1)"
   ]
  },
  {
   "cell_type": "code",
   "execution_count": 16,
   "id": "2040c0a4-72a6-41fb-a79d-885d03e657d8",
   "metadata": {},
   "outputs": [],
   "source": [
    "#Bagimli ve bagimsiz degiskenleri atayalim\n",
    "X = df.drop(\"Status\", axis=\"columns\")\n",
    "Y = df[\"Status\"]"
   ]
  },
  {
   "cell_type": "code",
   "execution_count": 17,
   "id": "bf4c0d55-9106-4ac8-9d7f-c98a22102401",
   "metadata": {},
   "outputs": [],
   "source": [
    "#egitim ve test olarak bolelim\n",
    "X_train, X_test, y_train, y_test = train_test_split(X,Y, test_size =0.25)"
   ]
  },
  {
   "cell_type": "code",
   "execution_count": 19,
   "id": "66c0eb2d-7e2a-45c4-80c4-234fc2e833da",
   "metadata": {},
   "outputs": [],
   "source": [
    "model = LogisticRegression(max_iter=1000).fit(X_train,y_train)"
   ]
  },
  {
   "cell_type": "code",
   "execution_count": 20,
   "id": "c2fc04b8-c68a-4200-aee7-0d62cf72fb3d",
   "metadata": {},
   "outputs": [
    {
     "data": {
      "text/plain": [
       "array([1, 1, 1, 1, 1, 1, 1, 0, 0, 1, 1, 1, 1, 1, 1, 1, 1, 1, 1, 1, 1, 0,\n",
       "       1, 1, 1, 1, 0, 1, 1, 0, 1, 0, 1, 0, 0, 1, 1, 1, 1, 1, 1, 1, 0, 0,\n",
       "       1, 1, 0, 1, 0, 1, 1, 1, 1, 1, 1, 0, 1, 0, 1, 1, 0, 1, 1, 1, 0, 1,\n",
       "       1, 0, 1, 0, 1, 1, 1, 1, 1, 1, 1, 0, 1, 1, 1, 1, 1, 1, 1, 1, 1, 1,\n",
       "       0, 1, 1, 1, 1, 1, 0, 0, 1, 1, 1, 1, 1, 1, 1, 1, 1, 1, 1, 1, 1, 1,\n",
       "       1, 1, 1, 1, 1, 1, 1, 1, 1, 1, 1, 1, 1, 1, 1, 0, 1, 1, 1, 1, 1, 1,\n",
       "       1, 0, 1, 1, 1, 1, 1, 1, 1, 1, 1, 1, 1, 1, 1, 1, 1, 1, 1, 0, 1, 1],\n",
       "      dtype=int64)"
      ]
     },
     "execution_count": 20,
     "metadata": {},
     "output_type": "execute_result"
    }
   ],
   "source": [
    "y_pred = model.predict(X_test)\n",
    "y_pred"
   ]
  },
  {
   "cell_type": "code",
   "execution_count": 21,
   "id": "46898c9a-7adc-45da-8723-abc1fe555d14",
   "metadata": {},
   "outputs": [
    {
     "data": {
      "text/plain": [
       "0.8051948051948052"
      ]
     },
     "execution_count": 21,
     "metadata": {},
     "output_type": "execute_result"
    }
   ],
   "source": [
    "dogruluk = accuracy_score(y_pred, y_test)\n",
    "dogruluk"
   ]
  },
  {
   "cell_type": "code",
   "execution_count": 22,
   "id": "a5beebfd-2587-4213-acd7-6fe10fba58f1",
   "metadata": {},
   "outputs": [
    {
     "data": {
      "text/plain": [
       "array([[0.25170247, 0.74829753],\n",
       "       [0.33074634, 0.66925366],\n",
       "       [0.17130805, 0.82869195],\n",
       "       [0.24758674, 0.75241326],\n",
       "       [0.04527374, 0.95472626]])"
      ]
     },
     "execution_count": 22,
     "metadata": {},
     "output_type": "execute_result"
    }
   ],
   "source": [
    "p = model.predict_proba(X_test)\n",
    "p[:5]"
   ]
  },
  {
   "cell_type": "code",
   "execution_count": 23,
   "id": "bdcdb416-3b20-486a-a6b2-a09fb79ffa5c",
   "metadata": {},
   "outputs": [
    {
     "data": {
      "text/plain": [
       "array([1496.59506851, 1338.50732352, 1657.38389572, 1504.82652016,\n",
       "       1909.45251193, 1479.31264906, 1688.75552183,  964.4639381 ,\n",
       "        613.7444357 , 1597.19227696])"
      ]
     },
     "execution_count": 23,
     "metadata": {},
     "output_type": "execute_result"
    }
   ],
   "source": [
    "olma_olasiligi = p[:,1]\n",
    "kredi_skoru = olma_olasiligi*2000\n",
    "kredi_skoru[:10]"
   ]
  },
  {
   "cell_type": "code",
   "execution_count": 24,
   "id": "93d8c99b-c668-40c9-a6ea-921f1f10e7a4",
   "metadata": {},
   "outputs": [
    {
     "data": {
      "image/png": "[encoded data removed]",
      "text/plain": [
       "<Figure size 640x480 with 1 Axes>"
      ]
     },
     "metadata": {},
     "output_type": "display_data"
    }
   ],
   "source": [
    "plt.hist(kredi_skoru, bins=15);"
   ]
  }
 ],
 "metadata": {
  "kernelspec": {
   "display_name": "Python 3 (ipykernel)",
   "language": "python",
   "name": "python3"
  },
  "language_info": {
   "codemirror_mode": {
    "name": "ipython",
    "version": 3
   },
   "file_extension": ".py",
   "mimetype": "text/x-python",
   "name": "python",
   "nbconvert_exporter": "python",
   "pygments_lexer": "ipython3",
   "version": "3.12.4"
  }
 },
 "nbformat": 4,
 "nbformat_minor": 5
}
